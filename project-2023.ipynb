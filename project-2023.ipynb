{
 "cells": [
  {
   "cell_type": "markdown",
   "id": "ec6f05cf-3769-4381-b7eb-a9d8de052d69",
   "metadata": {
    "editable": true,
    "slideshow": {
     "slide_type": ""
    },
    "tags": []
   },
   "source": [
    "# 2023 Project\n",
    "\n",
    "You have to work on the [ZTBus: A Large Dataset of Time-Resolved City Bus Driving Missions](https://www.research-collection.ethz.ch/handle/20.500.11850/626723) repository.\n",
    "\n",
    "It contains:\n",
    "*  [metaData.csv](https://www.research-collection.ethz.ch/bitstream/handle/20.500.11850/626723/metaData.csv?sequence=1&isAllowed=y), shortly *trips*\n",
    "*  several other files containing detailed data on some bus parameters, whose name is in the *trips* file. Those files can be downloaded as a [zip file](https://www.research-collection.ethz.ch/bitstream/handle/20.500.11850/626723/ZTBus_compressed.zip?sequence=3&isAllowed=y). Let us call those datasets the *details* datasets.\n",
    "\n",
    "### Notes\n",
    "\n",
    "1.    It is mandatory to use GitHub for developing the project.\n",
    "1.    The project must be a jupyter notebook.\n",
    "1.    There is no restriction on the libraries that can be used, nor on the Python version.\n",
    "1.    All questions on the project **must** be asked in a public channel on [Zulip](https://focs.zulipchat.com).\n",
    "1.    At most 3 students can be in each group. You must create the groups by yourself. You can use the Zulip channel to create the groups.\n",
    "1.    You do not have to send me the project *before* the discussion."
   ]
  },
  {
   "cell_type": "code",
   "execution_count": 2,
   "metadata": {},
   "outputs": [],
   "source": [
    "import pandas as pd\n",
    "import os "
   ]
  },
  {
   "cell_type": "code",
   "execution_count": 3,
   "id": "0d575788",
   "metadata": {},
   "outputs": [],
   "source": [
    "PATH = \"./data/ZTBus_samples/\"\n"
   ]
  },
  {
   "cell_type": "code",
   "execution_count": 4,
   "id": "3fab2191",
   "metadata": {},
   "outputs": [],
   "source": [
    "def merge_files_in_df(path: str):\n",
    "    ''' - takes in a folder path containing a list of csv.files with same schema\n",
    "        - reads and merges the files into a single pd.Dataframe object\n",
    "        '''\n",
    "    \n",
    "    dir = os.listdir(path)\n",
    "    output_df = pd.DataFrame()\n",
    "\n",
    "    for file in dir:\n",
    "        df = pd.read_csv(f'{path}{file}')\n",
    "        df[\"busNumber\"] = file[1:4] # extract bus number from file name to allow linkings with the trips dataframe\n",
    "        df[\"missionDate\"] = file[5:15] # extract mission date from file name to allow linkings with the trips dataframe\n",
    "        print(file[16:])\n",
    "        df[\"startMissionTime\"] = file[15] # extract mission date from file name to allow linkings with the trips dataframe\n",
    "\n",
    "        output_df = pd.concat([output_df, df])\n",
    "\n",
    "    return output_df"
   ]
  },
  {
   "cell_type": "code",
   "execution_count": 5,
   "id": "b03ebde0",
   "metadata": {},
   "outputs": [
    {
     "name": "stdout",
     "output_type": "stream",
     "text": [
      "03-16-13_2019-06-24_18-54-06.csv\n",
      "03-04-41_2020-07-19_21-04-28.csv\n",
      "03-53-27_2021-07-26_07-18-47.csv\n",
      "13-53-20_2021-10-05_18-14-53.csv\n",
      "04-09-18_2021-05-27_18-21-41.csv\n",
      "05-59-40_2021-09-25_18-15-31.csv\n",
      "05-30-37_2022-07-16_18-19-51.csv\n",
      "03-26-03_2022-10-09_22-56-13.csv\n",
      "03-25-19_2022-10-26_23-02-09.csv\n",
      "04-47-53_2022-11-30_19-50-22.csv\n"
     ]
    }
   ],
   "source": [
    "trips = pd.read_csv(r'data\\metaData.csv')\n",
    "details = merge_files_in_df(PATH)"
   ]
  },
  {
   "cell_type": "code",
   "execution_count": 6,
   "id": "9d07c361",
   "metadata": {},
   "outputs": [
    {
     "data": {
      "text/html": [
       "<div>\n",
       "<style scoped>\n",
       "    .dataframe tbody tr th:only-of-type {\n",
       "        vertical-align: middle;\n",
       "    }\n",
       "\n",
       "    .dataframe tbody tr th {\n",
       "        vertical-align: top;\n",
       "    }\n",
       "\n",
       "    .dataframe thead th {\n",
       "        text-align: right;\n",
       "    }\n",
       "</style>\n",
       "<table border=\"1\" class=\"dataframe\">\n",
       "  <thead>\n",
       "    <tr style=\"text-align: right;\">\n",
       "      <th></th>\n",
       "      <th>name</th>\n",
       "      <th>busNumber</th>\n",
       "      <th>startTime_iso</th>\n",
       "      <th>startTime_unix</th>\n",
       "      <th>endTime_iso</th>\n",
       "      <th>endTime_unix</th>\n",
       "      <th>drivenDistance</th>\n",
       "      <th>busRoute</th>\n",
       "      <th>energyConsumption</th>\n",
       "      <th>itcs_numberOfPassengers_mean</th>\n",
       "      <th>itcs_numberOfPassengers_min</th>\n",
       "      <th>itcs_numberOfPassengers_max</th>\n",
       "      <th>status_gridIsAvailable_mean</th>\n",
       "      <th>temperature_ambient_mean</th>\n",
       "      <th>temperature_ambient_min</th>\n",
       "      <th>temperature_ambient_max</th>\n",
       "    </tr>\n",
       "  </thead>\n",
       "  <tbody>\n",
       "    <tr>\n",
       "      <th>0</th>\n",
       "      <td>B183_2019-04-30_03-18-56_2019-04-30_08-44-20</td>\n",
       "      <td>183</td>\n",
       "      <td>2019-04-30T03:18:56Z</td>\n",
       "      <td>1556594336</td>\n",
       "      <td>2019-04-30T08:44:20Z</td>\n",
       "      <td>1556613860</td>\n",
       "      <td>77213.87</td>\n",
       "      <td>-</td>\n",
       "      <td>4.785852e+08</td>\n",
       "      <td>5.538860</td>\n",
       "      <td>0</td>\n",
       "      <td>20</td>\n",
       "      <td>0.740640</td>\n",
       "      <td>282.3780</td>\n",
       "      <td>281.15</td>\n",
       "      <td>293.15</td>\n",
       "    </tr>\n",
       "    <tr>\n",
       "      <th>1</th>\n",
       "      <td>B183_2019-04-30_13-22-07_2019-04-30_17-54-02</td>\n",
       "      <td>183</td>\n",
       "      <td>2019-04-30T13:22:07Z</td>\n",
       "      <td>1556630527</td>\n",
       "      <td>2019-04-30T17:54:02Z</td>\n",
       "      <td>1556646842</td>\n",
       "      <td>59029.60</td>\n",
       "      <td>31</td>\n",
       "      <td>4.022585e+08</td>\n",
       "      <td>33.114580</td>\n",
       "      <td>4</td>\n",
       "      <td>74</td>\n",
       "      <td>0.855234</td>\n",
       "      <td>287.5443</td>\n",
       "      <td>285.15</td>\n",
       "      <td>293.15</td>\n",
       "    </tr>\n",
       "    <tr>\n",
       "      <th>2</th>\n",
       "      <td>B183_2019-05-01_05-58-51_2019-05-01_22-32-30</td>\n",
       "      <td>183</td>\n",
       "      <td>2019-05-01T05:58:51Z</td>\n",
       "      <td>1556690331</td>\n",
       "      <td>2019-05-01T22:32:30Z</td>\n",
       "      <td>1556749950</td>\n",
       "      <td>240900.40</td>\n",
       "      <td>33</td>\n",
       "      <td>1.445733e+09</td>\n",
       "      <td>19.689140</td>\n",
       "      <td>0</td>\n",
       "      <td>55</td>\n",
       "      <td>0.777860</td>\n",
       "      <td>288.7490</td>\n",
       "      <td>280.15</td>\n",
       "      <td>294.15</td>\n",
       "    </tr>\n",
       "    <tr>\n",
       "      <th>3</th>\n",
       "      <td>B183_2019-05-03_02-50-21_2019-05-03_05-53-20</td>\n",
       "      <td>183</td>\n",
       "      <td>2019-05-03T02:50:21Z</td>\n",
       "      <td>1556851821</td>\n",
       "      <td>2019-05-03T05:53:20Z</td>\n",
       "      <td>1556862800</td>\n",
       "      <td>42565.48</td>\n",
       "      <td>-</td>\n",
       "      <td>2.819867e+08</td>\n",
       "      <td>1.685185</td>\n",
       "      <td>0</td>\n",
       "      <td>8</td>\n",
       "      <td>0.767122</td>\n",
       "      <td>282.4129</td>\n",
       "      <td>281.15</td>\n",
       "      <td>292.15</td>\n",
       "    </tr>\n",
       "    <tr>\n",
       "      <th>4</th>\n",
       "      <td>B183_2019-05-03_15-41-57_2019-05-03_23-06-24</td>\n",
       "      <td>183</td>\n",
       "      <td>2019-05-03T15:41:57Z</td>\n",
       "      <td>1556898117</td>\n",
       "      <td>2019-05-03T23:06:24Z</td>\n",
       "      <td>1556924784</td>\n",
       "      <td>125277.20</td>\n",
       "      <td>72</td>\n",
       "      <td>6.207258e+08</td>\n",
       "      <td>23.753570</td>\n",
       "      <td>1</td>\n",
       "      <td>67</td>\n",
       "      <td>0.907342</td>\n",
       "      <td>284.7325</td>\n",
       "      <td>282.15</td>\n",
       "      <td>287.15</td>\n",
       "    </tr>\n",
       "  </tbody>\n",
       "</table>\n",
       "</div>"
      ],
      "text/plain": [
       "                                           name  busNumber  \\\n",
       "0  B183_2019-04-30_03-18-56_2019-04-30_08-44-20        183   \n",
       "1  B183_2019-04-30_13-22-07_2019-04-30_17-54-02        183   \n",
       "2  B183_2019-05-01_05-58-51_2019-05-01_22-32-30        183   \n",
       "3  B183_2019-05-03_02-50-21_2019-05-03_05-53-20        183   \n",
       "4  B183_2019-05-03_15-41-57_2019-05-03_23-06-24        183   \n",
       "\n",
       "          startTime_iso  startTime_unix           endTime_iso  endTime_unix  \\\n",
       "0  2019-04-30T03:18:56Z      1556594336  2019-04-30T08:44:20Z    1556613860   \n",
       "1  2019-04-30T13:22:07Z      1556630527  2019-04-30T17:54:02Z    1556646842   \n",
       "2  2019-05-01T05:58:51Z      1556690331  2019-05-01T22:32:30Z    1556749950   \n",
       "3  2019-05-03T02:50:21Z      1556851821  2019-05-03T05:53:20Z    1556862800   \n",
       "4  2019-05-03T15:41:57Z      1556898117  2019-05-03T23:06:24Z    1556924784   \n",
       "\n",
       "   drivenDistance busRoute  energyConsumption  itcs_numberOfPassengers_mean  \\\n",
       "0        77213.87        -       4.785852e+08                      5.538860   \n",
       "1        59029.60       31       4.022585e+08                     33.114580   \n",
       "2       240900.40       33       1.445733e+09                     19.689140   \n",
       "3        42565.48        -       2.819867e+08                      1.685185   \n",
       "4       125277.20       72       6.207258e+08                     23.753570   \n",
       "\n",
       "   itcs_numberOfPassengers_min  itcs_numberOfPassengers_max  \\\n",
       "0                            0                           20   \n",
       "1                            4                           74   \n",
       "2                            0                           55   \n",
       "3                            0                            8   \n",
       "4                            1                           67   \n",
       "\n",
       "   status_gridIsAvailable_mean  temperature_ambient_mean  \\\n",
       "0                     0.740640                  282.3780   \n",
       "1                     0.855234                  287.5443   \n",
       "2                     0.777860                  288.7490   \n",
       "3                     0.767122                  282.4129   \n",
       "4                     0.907342                  284.7325   \n",
       "\n",
       "   temperature_ambient_min  temperature_ambient_max  \n",
       "0                   281.15                   293.15  \n",
       "1                   285.15                   293.15  \n",
       "2                   280.15                   294.15  \n",
       "3                   281.15                   292.15  \n",
       "4                   282.15                   287.15  "
      ]
     },
     "execution_count": 6,
     "metadata": {},
     "output_type": "execute_result"
    }
   ],
   "source": [
    "trips.head()"
   ]
  },
  {
   "cell_type": "markdown",
   "id": "b7a0ffa6-ad32-446f-8780-eb3138658e14",
   "metadata": {
    "editable": true,
    "slideshow": {
     "slide_type": ""
    },
    "tags": []
   },
   "source": [
    "### 1. Extract all trips with `busRoute` 83"
   ]
  },
  {
   "cell_type": "code",
   "execution_count": 7,
   "metadata": {},
   "outputs": [
    {
     "data": {
      "text/html": [
       "<div>\n",
       "<style scoped>\n",
       "    .dataframe tbody tr th:only-of-type {\n",
       "        vertical-align: middle;\n",
       "    }\n",
       "\n",
       "    .dataframe tbody tr th {\n",
       "        vertical-align: top;\n",
       "    }\n",
       "\n",
       "    .dataframe thead th {\n",
       "        text-align: right;\n",
       "    }\n",
       "</style>\n",
       "<table border=\"1\" class=\"dataframe\">\n",
       "  <thead>\n",
       "    <tr style=\"text-align: right;\">\n",
       "      <th></th>\n",
       "      <th>name</th>\n",
       "      <th>busNumber</th>\n",
       "      <th>startTime_iso</th>\n",
       "      <th>startTime_unix</th>\n",
       "      <th>endTime_iso</th>\n",
       "      <th>endTime_unix</th>\n",
       "      <th>drivenDistance</th>\n",
       "      <th>busRoute</th>\n",
       "      <th>energyConsumption</th>\n",
       "      <th>itcs_numberOfPassengers_mean</th>\n",
       "      <th>itcs_numberOfPassengers_min</th>\n",
       "      <th>itcs_numberOfPassengers_max</th>\n",
       "      <th>status_gridIsAvailable_mean</th>\n",
       "      <th>temperature_ambient_mean</th>\n",
       "      <th>temperature_ambient_min</th>\n",
       "      <th>temperature_ambient_max</th>\n",
       "    </tr>\n",
       "  </thead>\n",
       "  <tbody>\n",
       "    <tr>\n",
       "      <th>154</th>\n",
       "      <td>B183_2020-03-03_04-42-38_2020-03-03_19-44-51</td>\n",
       "      <td>183</td>\n",
       "      <td>2020-03-03T04:42:38Z</td>\n",
       "      <td>1583210558</td>\n",
       "      <td>2020-03-03T19:44:51Z</td>\n",
       "      <td>1583264691</td>\n",
       "      <td>225047.90</td>\n",
       "      <td>83</td>\n",
       "      <td>1.544278e+09</td>\n",
       "      <td>23.47531</td>\n",
       "      <td>0</td>\n",
       "      <td>118</td>\n",
       "      <td>0.472180</td>\n",
       "      <td>280.5450</td>\n",
       "      <td>279.15</td>\n",
       "      <td>289.15</td>\n",
       "    </tr>\n",
       "    <tr>\n",
       "      <th>155</th>\n",
       "      <td>B183_2020-03-06_04-53-23_2020-03-06_19-44-42</td>\n",
       "      <td>183</td>\n",
       "      <td>2020-03-06T04:53:23Z</td>\n",
       "      <td>1583470403</td>\n",
       "      <td>2020-03-06T19:44:42Z</td>\n",
       "      <td>1583523882</td>\n",
       "      <td>224512.30</td>\n",
       "      <td>83</td>\n",
       "      <td>1.631816e+09</td>\n",
       "      <td>17.41578</td>\n",
       "      <td>0</td>\n",
       "      <td>69</td>\n",
       "      <td>0.451028</td>\n",
       "      <td>279.8850</td>\n",
       "      <td>278.15</td>\n",
       "      <td>289.15</td>\n",
       "    </tr>\n",
       "    <tr>\n",
       "      <th>157</th>\n",
       "      <td>B183_2020-03-09_14-16-13_2020-03-09_19-34-17</td>\n",
       "      <td>183</td>\n",
       "      <td>2020-03-09T14:16:13Z</td>\n",
       "      <td>1583763373</td>\n",
       "      <td>2020-03-09T19:34:17Z</td>\n",
       "      <td>1583782457</td>\n",
       "      <td>77824.36</td>\n",
       "      <td>83</td>\n",
       "      <td>5.406013e+08</td>\n",
       "      <td>23.18182</td>\n",
       "      <td>0</td>\n",
       "      <td>74</td>\n",
       "      <td>0.460099</td>\n",
       "      <td>281.0489</td>\n",
       "      <td>279.15</td>\n",
       "      <td>291.15</td>\n",
       "    </tr>\n",
       "    <tr>\n",
       "      <th>158</th>\n",
       "      <td>B183_2020-03-10_04-50-03_2020-03-10_19-51-25</td>\n",
       "      <td>183</td>\n",
       "      <td>2020-03-10T04:50:03Z</td>\n",
       "      <td>1583815803</td>\n",
       "      <td>2020-03-10T19:51:25Z</td>\n",
       "      <td>1583869885</td>\n",
       "      <td>225095.80</td>\n",
       "      <td>83</td>\n",
       "      <td>1.692171e+09</td>\n",
       "      <td>20.96410</td>\n",
       "      <td>0</td>\n",
       "      <td>86</td>\n",
       "      <td>0.475233</td>\n",
       "      <td>279.8363</td>\n",
       "      <td>279.15</td>\n",
       "      <td>291.15</td>\n",
       "    </tr>\n",
       "    <tr>\n",
       "      <th>159</th>\n",
       "      <td>B183_2020-03-12_04-56-41_2020-03-12_19-44-57</td>\n",
       "      <td>183</td>\n",
       "      <td>2020-03-12T04:56:41Z</td>\n",
       "      <td>1583989001</td>\n",
       "      <td>2020-03-12T19:44:57Z</td>\n",
       "      <td>1584042297</td>\n",
       "      <td>224181.20</td>\n",
       "      <td>83</td>\n",
       "      <td>1.145860e+09</td>\n",
       "      <td>17.21235</td>\n",
       "      <td>0</td>\n",
       "      <td>80</td>\n",
       "      <td>0.340882</td>\n",
       "      <td>287.3445</td>\n",
       "      <td>282.15</td>\n",
       "      <td>291.15</td>\n",
       "    </tr>\n",
       "  </tbody>\n",
       "</table>\n",
       "</div>"
      ],
      "text/plain": [
       "                                             name  busNumber  \\\n",
       "154  B183_2020-03-03_04-42-38_2020-03-03_19-44-51        183   \n",
       "155  B183_2020-03-06_04-53-23_2020-03-06_19-44-42        183   \n",
       "157  B183_2020-03-09_14-16-13_2020-03-09_19-34-17        183   \n",
       "158  B183_2020-03-10_04-50-03_2020-03-10_19-51-25        183   \n",
       "159  B183_2020-03-12_04-56-41_2020-03-12_19-44-57        183   \n",
       "\n",
       "            startTime_iso  startTime_unix           endTime_iso  endTime_unix  \\\n",
       "154  2020-03-03T04:42:38Z      1583210558  2020-03-03T19:44:51Z    1583264691   \n",
       "155  2020-03-06T04:53:23Z      1583470403  2020-03-06T19:44:42Z    1583523882   \n",
       "157  2020-03-09T14:16:13Z      1583763373  2020-03-09T19:34:17Z    1583782457   \n",
       "158  2020-03-10T04:50:03Z      1583815803  2020-03-10T19:51:25Z    1583869885   \n",
       "159  2020-03-12T04:56:41Z      1583989001  2020-03-12T19:44:57Z    1584042297   \n",
       "\n",
       "     drivenDistance busRoute  energyConsumption  itcs_numberOfPassengers_mean  \\\n",
       "154       225047.90       83       1.544278e+09                      23.47531   \n",
       "155       224512.30       83       1.631816e+09                      17.41578   \n",
       "157        77824.36       83       5.406013e+08                      23.18182   \n",
       "158       225095.80       83       1.692171e+09                      20.96410   \n",
       "159       224181.20       83       1.145860e+09                      17.21235   \n",
       "\n",
       "     itcs_numberOfPassengers_min  itcs_numberOfPassengers_max  \\\n",
       "154                            0                          118   \n",
       "155                            0                           69   \n",
       "157                            0                           74   \n",
       "158                            0                           86   \n",
       "159                            0                           80   \n",
       "\n",
       "     status_gridIsAvailable_mean  temperature_ambient_mean  \\\n",
       "154                     0.472180                  280.5450   \n",
       "155                     0.451028                  279.8850   \n",
       "157                     0.460099                  281.0489   \n",
       "158                     0.475233                  279.8363   \n",
       "159                     0.340882                  287.3445   \n",
       "\n",
       "     temperature_ambient_min  temperature_ambient_max  \n",
       "154                   279.15                   289.15  \n",
       "155                   278.15                   289.15  \n",
       "157                   279.15                   291.15  \n",
       "158                   279.15                   291.15  \n",
       "159                   282.15                   291.15  "
      ]
     },
     "execution_count": 7,
     "metadata": {},
     "output_type": "execute_result"
    }
   ],
   "source": [
    "route_83 = trips[trips[\"busRoute\"] == \"83\"]\n",
    "route_83.head()"
   ]
  },
  {
   "cell_type": "code",
   "execution_count": 8,
   "metadata": {},
   "outputs": [],
   "source": [
    "def data_check(df):\n",
    "\n",
    "    print(f' NAs : \\n {df.isna().sum()} \\n')\n",
    "    print(f'Duplicated rows \\n {len(df[df.duplicated()])} \\n')\n",
    "\n",
    "    pd.reset_option('display.max_rows')\n",
    "    pd.reset_option('display.max_columns')\n",
    "\n",
    "\n",
    "    if len(df[df.duplicated()]) > 0:\n",
    "        df.drop_duplicates(inplace=True)\n"
   ]
  },
  {
   "cell_type": "code",
   "execution_count": 9,
   "metadata": {},
   "outputs": [
    {
     "name": "stdout",
     "output_type": "stream",
     "text": [
      " NAs : \n",
      " time_iso                           0\n",
      "time_unix                          0\n",
      "electric_powerDemand               0\n",
      "gnss_altitude                   2883\n",
      "gnss_course                     2868\n",
      "gnss_latitude                   2868\n",
      "gnss_longitude                  2868\n",
      "itcs_busRoute                      0\n",
      "itcs_numberOfPassengers       480972\n",
      "itcs_stopName                      0\n",
      "odometry_articulationAngle         0\n",
      "odometry_steeringAngle             0\n",
      "odometry_vehicleSpeed              0\n",
      "odometry_wheelSpeed_fl             0\n",
      "odometry_wheelSpeed_fr             0\n",
      "odometry_wheelSpeed_ml             0\n",
      "odometry_wheelSpeed_mr             0\n",
      "odometry_wheelSpeed_rl             0\n",
      "odometry_wheelSpeed_rr             0\n",
      "status_doorIsOpen                  3\n",
      "status_gridIsAvailable             3\n",
      "status_haltBrakeIsActive           3\n",
      "status_parkBrakeIsActive           3\n",
      "temperature_ambient                2\n",
      "traction_brakePressure             0\n",
      "traction_tractionForce             0\n",
      "busNumber                          0\n",
      "missionDate                        0\n",
      "startMissionTime                   0\n",
      "dtype: int64 \n",
      "\n",
      "Duplicated rows \n",
      " 0 \n",
      "\n"
     ]
    }
   ],
   "source": [
    "data_check(details)"
   ]
  },
  {
   "cell_type": "code",
   "execution_count": 10,
   "metadata": {},
   "outputs": [
    {
     "data": {
      "text/plain": [
       "Index(['time_iso', 'time_unix', 'electric_powerDemand', 'gnss_altitude',\n",
       "       'gnss_course', 'gnss_latitude', 'gnss_longitude', 'itcs_busRoute',\n",
       "       'itcs_numberOfPassengers', 'itcs_stopName',\n",
       "       'odometry_articulationAngle', 'odometry_steeringAngle',\n",
       "       'odometry_vehicleSpeed', 'odometry_wheelSpeed_fl',\n",
       "       'odometry_wheelSpeed_fr', 'odometry_wheelSpeed_ml',\n",
       "       'odometry_wheelSpeed_mr', 'odometry_wheelSpeed_rl',\n",
       "       'odometry_wheelSpeed_rr', 'status_doorIsOpen', 'status_gridIsAvailable',\n",
       "       'status_haltBrakeIsActive', 'status_parkBrakeIsActive',\n",
       "       'temperature_ambient', 'traction_brakePressure',\n",
       "       'traction_tractionForce', 'busNumber', 'missionDate',\n",
       "       'startMissionTime'],\n",
       "      dtype='object')"
      ]
     },
     "execution_count": 10,
     "metadata": {},
     "output_type": "execute_result"
    }
   ],
   "source": [
    "details.columns"
   ]
  },
  {
   "cell_type": "markdown",
   "id": "65b571da-2c73-4e1a-b2f2-e4e3da6316d8",
   "metadata": {
    "editable": true,
    "slideshow": {
     "slide_type": ""
    },
    "tags": []
   },
   "source": [
    "### 2. Extract all trips where `busRoute` is not a number"
   ]
  },
  {
   "cell_type": "code",
   "execution_count": 11,
   "metadata": {},
   "outputs": [
    {
     "data": {
      "text/html": [
       "<div>\n",
       "<style scoped>\n",
       "    .dataframe tbody tr th:only-of-type {\n",
       "        vertical-align: middle;\n",
       "    }\n",
       "\n",
       "    .dataframe tbody tr th {\n",
       "        vertical-align: top;\n",
       "    }\n",
       "\n",
       "    .dataframe thead th {\n",
       "        text-align: right;\n",
       "    }\n",
       "</style>\n",
       "<table border=\"1\" class=\"dataframe\">\n",
       "  <thead>\n",
       "    <tr style=\"text-align: right;\">\n",
       "      <th></th>\n",
       "      <th>name</th>\n",
       "      <th>busNumber</th>\n",
       "      <th>startTime_iso</th>\n",
       "      <th>startTime_unix</th>\n",
       "      <th>endTime_iso</th>\n",
       "      <th>endTime_unix</th>\n",
       "      <th>drivenDistance</th>\n",
       "      <th>busRoute</th>\n",
       "      <th>energyConsumption</th>\n",
       "      <th>itcs_numberOfPassengers_mean</th>\n",
       "      <th>itcs_numberOfPassengers_min</th>\n",
       "      <th>itcs_numberOfPassengers_max</th>\n",
       "      <th>status_gridIsAvailable_mean</th>\n",
       "      <th>temperature_ambient_mean</th>\n",
       "      <th>temperature_ambient_min</th>\n",
       "      <th>temperature_ambient_max</th>\n",
       "    </tr>\n",
       "  </thead>\n",
       "  <tbody>\n",
       "    <tr>\n",
       "      <th>0</th>\n",
       "      <td>B183_2019-04-30_03-18-56_2019-04-30_08-44-20</td>\n",
       "      <td>183</td>\n",
       "      <td>2019-04-30T03:18:56Z</td>\n",
       "      <td>1556594336</td>\n",
       "      <td>2019-04-30T08:44:20Z</td>\n",
       "      <td>1556613860</td>\n",
       "      <td>77213.87</td>\n",
       "      <td>-</td>\n",
       "      <td>4.785852e+08</td>\n",
       "      <td>5.538860</td>\n",
       "      <td>0</td>\n",
       "      <td>20</td>\n",
       "      <td>0.740640</td>\n",
       "      <td>282.3780</td>\n",
       "      <td>281.15</td>\n",
       "      <td>293.15</td>\n",
       "    </tr>\n",
       "    <tr>\n",
       "      <th>3</th>\n",
       "      <td>B183_2019-05-03_02-50-21_2019-05-03_05-53-20</td>\n",
       "      <td>183</td>\n",
       "      <td>2019-05-03T02:50:21Z</td>\n",
       "      <td>1556851821</td>\n",
       "      <td>2019-05-03T05:53:20Z</td>\n",
       "      <td>1556862800</td>\n",
       "      <td>42565.48</td>\n",
       "      <td>-</td>\n",
       "      <td>2.819867e+08</td>\n",
       "      <td>1.685185</td>\n",
       "      <td>0</td>\n",
       "      <td>8</td>\n",
       "      <td>0.767122</td>\n",
       "      <td>282.4129</td>\n",
       "      <td>281.15</td>\n",
       "      <td>292.15</td>\n",
       "    </tr>\n",
       "    <tr>\n",
       "      <th>9</th>\n",
       "      <td>B183_2019-05-10_03-16-11_2019-05-10_18-51-37</td>\n",
       "      <td>183</td>\n",
       "      <td>2019-05-10T03:16:11Z</td>\n",
       "      <td>1557458171</td>\n",
       "      <td>2019-05-10T18:51:37Z</td>\n",
       "      <td>1557514297</td>\n",
       "      <td>210577.00</td>\n",
       "      <td>-</td>\n",
       "      <td>1.303391e+09</td>\n",
       "      <td>8.230483</td>\n",
       "      <td>0</td>\n",
       "      <td>43</td>\n",
       "      <td>0.740927</td>\n",
       "      <td>287.5623</td>\n",
       "      <td>282.15</td>\n",
       "      <td>293.15</td>\n",
       "    </tr>\n",
       "    <tr>\n",
       "      <th>10</th>\n",
       "      <td>B183_2019-05-13_03-10-23_2019-05-13_23-16-13</td>\n",
       "      <td>183</td>\n",
       "      <td>2019-05-13T03:10:23Z</td>\n",
       "      <td>1557717023</td>\n",
       "      <td>2019-05-13T23:16:13Z</td>\n",
       "      <td>1557789373</td>\n",
       "      <td>267033.80</td>\n",
       "      <td>-</td>\n",
       "      <td>1.647432e+09</td>\n",
       "      <td>7.891652</td>\n",
       "      <td>0</td>\n",
       "      <td>45</td>\n",
       "      <td>0.804191</td>\n",
       "      <td>284.6764</td>\n",
       "      <td>280.15</td>\n",
       "      <td>293.15</td>\n",
       "    </tr>\n",
       "    <tr>\n",
       "      <th>19</th>\n",
       "      <td>B183_2019-05-24_02-52-47_2019-05-24_22-35-11</td>\n",
       "      <td>183</td>\n",
       "      <td>2019-05-24T02:52:47Z</td>\n",
       "      <td>1558666367</td>\n",
       "      <td>2019-05-24T22:35:11Z</td>\n",
       "      <td>1558737311</td>\n",
       "      <td>263432.60</td>\n",
       "      <td>-</td>\n",
       "      <td>1.448057e+09</td>\n",
       "      <td>7.520249</td>\n",
       "      <td>0</td>\n",
       "      <td>44</td>\n",
       "      <td>0.761068</td>\n",
       "      <td>293.1440</td>\n",
       "      <td>283.15</td>\n",
       "      <td>299.15</td>\n",
       "    </tr>\n",
       "  </tbody>\n",
       "</table>\n",
       "</div>"
      ],
      "text/plain": [
       "                                            name  busNumber  \\\n",
       "0   B183_2019-04-30_03-18-56_2019-04-30_08-44-20        183   \n",
       "3   B183_2019-05-03_02-50-21_2019-05-03_05-53-20        183   \n",
       "9   B183_2019-05-10_03-16-11_2019-05-10_18-51-37        183   \n",
       "10  B183_2019-05-13_03-10-23_2019-05-13_23-16-13        183   \n",
       "19  B183_2019-05-24_02-52-47_2019-05-24_22-35-11        183   \n",
       "\n",
       "           startTime_iso  startTime_unix           endTime_iso  endTime_unix  \\\n",
       "0   2019-04-30T03:18:56Z      1556594336  2019-04-30T08:44:20Z    1556613860   \n",
       "3   2019-05-03T02:50:21Z      1556851821  2019-05-03T05:53:20Z    1556862800   \n",
       "9   2019-05-10T03:16:11Z      1557458171  2019-05-10T18:51:37Z    1557514297   \n",
       "10  2019-05-13T03:10:23Z      1557717023  2019-05-13T23:16:13Z    1557789373   \n",
       "19  2019-05-24T02:52:47Z      1558666367  2019-05-24T22:35:11Z    1558737311   \n",
       "\n",
       "    drivenDistance busRoute  energyConsumption  itcs_numberOfPassengers_mean  \\\n",
       "0         77213.87        -       4.785852e+08                      5.538860   \n",
       "3         42565.48        -       2.819867e+08                      1.685185   \n",
       "9        210577.00        -       1.303391e+09                      8.230483   \n",
       "10       267033.80        -       1.647432e+09                      7.891652   \n",
       "19       263432.60        -       1.448057e+09                      7.520249   \n",
       "\n",
       "    itcs_numberOfPassengers_min  itcs_numberOfPassengers_max  \\\n",
       "0                             0                           20   \n",
       "3                             0                            8   \n",
       "9                             0                           43   \n",
       "10                            0                           45   \n",
       "19                            0                           44   \n",
       "\n",
       "    status_gridIsAvailable_mean  temperature_ambient_mean  \\\n",
       "0                      0.740640                  282.3780   \n",
       "3                      0.767122                  282.4129   \n",
       "9                      0.740927                  287.5623   \n",
       "10                     0.804191                  284.6764   \n",
       "19                     0.761068                  293.1440   \n",
       "\n",
       "    temperature_ambient_min  temperature_ambient_max  \n",
       "0                    281.15                   293.15  \n",
       "3                    281.15                   292.15  \n",
       "9                    282.15                   293.15  \n",
       "10                   280.15                   293.15  \n",
       "19                   283.15                   299.15  "
      ]
     },
     "execution_count": 11,
     "metadata": {},
     "output_type": "execute_result"
    }
   ],
   "source": [
    "routes_na = trips[trips[\"busRoute\"].apply(lambda x: x.isnumeric() == False)]\n",
    "routes_na.head()"
   ]
  },
  {
   "cell_type": "markdown",
   "id": "f3d46848-9e88-4eae-96af-43263c16371e",
   "metadata": {
    "editable": true,
    "slideshow": {
     "slide_type": ""
    },
    "tags": []
   },
   "source": [
    "### 3. For each (busNumber, busRoute) pair, determine the number of trips"
   ]
  },
  {
   "cell_type": "code",
   "execution_count": 12,
   "metadata": {},
   "outputs": [
    {
     "data": {
      "text/plain": [
       "busNumber  busRoute\n",
       "183        -            11\n",
       "           31           12\n",
       "           32           12\n",
       "           33          130\n",
       "           46          104\n",
       "           72          114\n",
       "           83          441\n",
       "           N1           10\n",
       "           N2           19\n",
       "           N4           11\n",
       "208        31            5\n",
       "           32           14\n",
       "           33           25\n",
       "           46           19\n",
       "           72           44\n",
       "           83          405\n",
       "           N1            6\n",
       "           N2           20\n",
       "           N4            7\n",
       "Name: name, dtype: int64"
      ]
     },
     "execution_count": 12,
     "metadata": {},
     "output_type": "execute_result"
    }
   ],
   "source": [
    "trips_grouped = trips.groupby([\"busNumber\", \"busRoute\"])[\"name\"].count()\n",
    "trips_grouped"
   ]
  },
  {
   "cell_type": "markdown",
   "id": "0a278a12",
   "metadata": {},
   "source": [
    "NOTE: \"-\" busRoute value means NA, we can drop it"
   ]
  },
  {
   "cell_type": "markdown",
   "id": "ab2e0ff1-b637-44bd-9cd2-0fd5167892f4",
   "metadata": {
    "editable": true,
    "slideshow": {
     "slide_type": ""
    },
    "tags": []
   },
   "source": [
    "### 4. For each trip, compute the ratio between the energy consumption and the average number of passengers"
   ]
  },
  {
   "cell_type": "code",
   "execution_count": 13,
   "id": "640313f4",
   "metadata": {},
   "outputs": [
    {
     "name": "stdout",
     "output_type": "stream",
     "text": [
      "1409\n",
      "(1409, 16)\n"
     ]
    }
   ],
   "source": [
    "print(len(trips[\"name\"].unique()))\n",
    "print(trips.shape)"
   ]
  },
  {
   "cell_type": "code",
   "execution_count": 14,
   "metadata": {},
   "outputs": [
    {
     "data": {
      "text/plain": [
       "0     86405000.0\n",
       "1     12147474.0\n",
       "2     73427940.0\n",
       "3    167332785.0\n",
       "4     26131895.0\n",
       "dtype: float64"
      ]
     },
     "execution_count": 14,
     "metadata": {},
     "output_type": "execute_result"
    }
   ],
   "source": [
    "ratio = round(trips[\"energyConsumption\"] / trips[\"itcs_numberOfPassengers_mean\"])\n",
    "ratio.head()"
   ]
  },
  {
   "cell_type": "markdown",
   "id": "bd288f44-e2f2-4420-b662-da98a666a8a9",
   "metadata": {
    "editable": true,
    "slideshow": {
     "slide_type": ""
    },
    "tags": []
   },
   "source": [
    "### 5. For each station (`itcs_stopName`), determine the average number of passengers."
   ]
  },
  {
   "cell_type": "code",
   "execution_count": 15,
   "metadata": {},
   "outputs": [
    {
     "data": {
      "text/plain": [
       "itcs_stopName\n",
       "-                              NaN\n",
       "Zürich, Albisrank             18.0\n",
       "Zürich, Albisriederplatz      27.0\n",
       "Zürich, Altes Krematorium     22.0\n",
       "Zürich, Bahnhof Altstetten    10.0\n",
       "Name: itcs_numberOfPassengers, dtype: float64"
      ]
     },
     "execution_count": 15,
     "metadata": {},
     "output_type": "execute_result"
    }
   ],
   "source": [
    "n_passengers_by_station = round(details.groupby(\"itcs_stopName\")[\"itcs_numberOfPassengers\"].mean())\n",
    "n_passengers_by_station.head()"
   ]
  },
  {
   "cell_type": "markdown",
   "id": "a14be0dd",
   "metadata": {},
   "source": [
    "Rows without itcs_stopName as NA also don't have pass count"
   ]
  },
  {
   "cell_type": "markdown",
   "id": "f94c4aed-9490-440d-af7e-744ed71e6819",
   "metadata": {
    "editable": true,
    "slideshow": {
     "slide_type": ""
    },
    "tags": []
   },
   "source": [
    "### 6. For each station, determine the buses that have stopped there at least once."
   ]
  },
  {
   "cell_type": "code",
   "execution_count": 16,
   "metadata": {},
   "outputs": [],
   "source": [
    "details_stop_count = details.groupby([\"itcs_stopName\", \"busNumber\"]).size().reset_index(name=\"stop_count\")"
   ]
  },
  {
   "cell_type": "code",
   "execution_count": 17,
   "metadata": {},
   "outputs": [
    {
     "data": {
      "text/html": [
       "<div>\n",
       "<style scoped>\n",
       "    .dataframe tbody tr th:only-of-type {\n",
       "        vertical-align: middle;\n",
       "    }\n",
       "\n",
       "    .dataframe tbody tr th {\n",
       "        vertical-align: top;\n",
       "    }\n",
       "\n",
       "    .dataframe thead th {\n",
       "        text-align: right;\n",
       "    }\n",
       "</style>\n",
       "<table border=\"1\" class=\"dataframe\">\n",
       "  <thead>\n",
       "    <tr style=\"text-align: right;\">\n",
       "      <th></th>\n",
       "      <th>itcs_stopName</th>\n",
       "      <th>busNumber</th>\n",
       "      <th>stop_count</th>\n",
       "    </tr>\n",
       "  </thead>\n",
       "  <tbody>\n",
       "    <tr>\n",
       "      <th>0</th>\n",
       "      <td>-</td>\n",
       "      <td>183</td>\n",
       "      <td>147624</td>\n",
       "    </tr>\n",
       "    <tr>\n",
       "      <th>1</th>\n",
       "      <td>-</td>\n",
       "      <td>208</td>\n",
       "      <td>333348</td>\n",
       "    </tr>\n",
       "    <tr>\n",
       "      <th>2</th>\n",
       "      <td>Zürich, Albisrank</td>\n",
       "      <td>183</td>\n",
       "      <td>14</td>\n",
       "    </tr>\n",
       "    <tr>\n",
       "      <th>3</th>\n",
       "      <td>Zürich, Albisrank</td>\n",
       "      <td>208</td>\n",
       "      <td>77</td>\n",
       "    </tr>\n",
       "    <tr>\n",
       "      <th>4</th>\n",
       "      <td>Zürich, Albisriederplatz</td>\n",
       "      <td>183</td>\n",
       "      <td>36</td>\n",
       "    </tr>\n",
       "    <tr>\n",
       "      <th>...</th>\n",
       "      <td>...</td>\n",
       "      <td>...</td>\n",
       "      <td>...</td>\n",
       "    </tr>\n",
       "    <tr>\n",
       "      <th>121</th>\n",
       "      <td>Zürich, Waffenplatz-/Bederstr.</td>\n",
       "      <td>208</td>\n",
       "      <td>23</td>\n",
       "    </tr>\n",
       "    <tr>\n",
       "      <th>122</th>\n",
       "      <td>Zürich, Waffenplatzstrasse</td>\n",
       "      <td>208</td>\n",
       "      <td>48</td>\n",
       "    </tr>\n",
       "    <tr>\n",
       "      <th>123</th>\n",
       "      <td>Zürich, Wildbachstrasse</td>\n",
       "      <td>183</td>\n",
       "      <td>58</td>\n",
       "    </tr>\n",
       "    <tr>\n",
       "      <th>124</th>\n",
       "      <td>Zürich, Wildbachstrasse</td>\n",
       "      <td>208</td>\n",
       "      <td>26</td>\n",
       "    </tr>\n",
       "    <tr>\n",
       "      <th>125</th>\n",
       "      <td>Zürich, Zwinglihaus</td>\n",
       "      <td>208</td>\n",
       "      <td>48</td>\n",
       "    </tr>\n",
       "  </tbody>\n",
       "</table>\n",
       "<p>126 rows × 3 columns</p>\n",
       "</div>"
      ],
      "text/plain": [
       "                      itcs_stopName busNumber  stop_count\n",
       "0                                 -       183      147624\n",
       "1                                 -       208      333348\n",
       "2                 Zürich, Albisrank       183          14\n",
       "3                 Zürich, Albisrank       208          77\n",
       "4          Zürich, Albisriederplatz       183          36\n",
       "..                              ...       ...         ...\n",
       "121  Zürich, Waffenplatz-/Bederstr.       208          23\n",
       "122      Zürich, Waffenplatzstrasse       208          48\n",
       "123         Zürich, Wildbachstrasse       183          58\n",
       "124         Zürich, Wildbachstrasse       208          26\n",
       "125             Zürich, Zwinglihaus       208          48\n",
       "\n",
       "[126 rows x 3 columns]"
      ]
     },
     "execution_count": 17,
     "metadata": {},
     "output_type": "execute_result"
    }
   ],
   "source": [
    "details_stop_count[details_stop_count[\"stop_count\"] >= 1]"
   ]
  },
  {
   "cell_type": "markdown",
   "id": "f3b87491-ac56-43ec-afff-9867c7e72b1d",
   "metadata": {
    "editable": true,
    "slideshow": {
     "slide_type": ""
    },
    "tags": []
   },
   "source": [
    "### 7. For each station, determine the buses that have stopped there at least ten times."
   ]
  },
  {
   "cell_type": "code",
   "execution_count": 18,
   "metadata": {},
   "outputs": [
    {
     "data": {
      "text/html": [
       "<div>\n",
       "<style scoped>\n",
       "    .dataframe tbody tr th:only-of-type {\n",
       "        vertical-align: middle;\n",
       "    }\n",
       "\n",
       "    .dataframe tbody tr th {\n",
       "        vertical-align: top;\n",
       "    }\n",
       "\n",
       "    .dataframe thead th {\n",
       "        text-align: right;\n",
       "    }\n",
       "</style>\n",
       "<table border=\"1\" class=\"dataframe\">\n",
       "  <thead>\n",
       "    <tr style=\"text-align: right;\">\n",
       "      <th></th>\n",
       "      <th>itcs_stopName</th>\n",
       "      <th>busNumber</th>\n",
       "      <th>stop_count</th>\n",
       "    </tr>\n",
       "  </thead>\n",
       "  <tbody>\n",
       "    <tr>\n",
       "      <th>0</th>\n",
       "      <td>-</td>\n",
       "      <td>183</td>\n",
       "      <td>147624</td>\n",
       "    </tr>\n",
       "    <tr>\n",
       "      <th>1</th>\n",
       "      <td>-</td>\n",
       "      <td>208</td>\n",
       "      <td>333348</td>\n",
       "    </tr>\n",
       "    <tr>\n",
       "      <th>2</th>\n",
       "      <td>Zürich, Albisrank</td>\n",
       "      <td>183</td>\n",
       "      <td>14</td>\n",
       "    </tr>\n",
       "    <tr>\n",
       "      <th>3</th>\n",
       "      <td>Zürich, Albisrank</td>\n",
       "      <td>208</td>\n",
       "      <td>77</td>\n",
       "    </tr>\n",
       "    <tr>\n",
       "      <th>4</th>\n",
       "      <td>Zürich, Albisriederplatz</td>\n",
       "      <td>183</td>\n",
       "      <td>36</td>\n",
       "    </tr>\n",
       "    <tr>\n",
       "      <th>...</th>\n",
       "      <td>...</td>\n",
       "      <td>...</td>\n",
       "      <td>...</td>\n",
       "    </tr>\n",
       "    <tr>\n",
       "      <th>121</th>\n",
       "      <td>Zürich, Waffenplatz-/Bederstr.</td>\n",
       "      <td>208</td>\n",
       "      <td>23</td>\n",
       "    </tr>\n",
       "    <tr>\n",
       "      <th>122</th>\n",
       "      <td>Zürich, Waffenplatzstrasse</td>\n",
       "      <td>208</td>\n",
       "      <td>48</td>\n",
       "    </tr>\n",
       "    <tr>\n",
       "      <th>123</th>\n",
       "      <td>Zürich, Wildbachstrasse</td>\n",
       "      <td>183</td>\n",
       "      <td>58</td>\n",
       "    </tr>\n",
       "    <tr>\n",
       "      <th>124</th>\n",
       "      <td>Zürich, Wildbachstrasse</td>\n",
       "      <td>208</td>\n",
       "      <td>26</td>\n",
       "    </tr>\n",
       "    <tr>\n",
       "      <th>125</th>\n",
       "      <td>Zürich, Zwinglihaus</td>\n",
       "      <td>208</td>\n",
       "      <td>48</td>\n",
       "    </tr>\n",
       "  </tbody>\n",
       "</table>\n",
       "<p>102 rows × 3 columns</p>\n",
       "</div>"
      ],
      "text/plain": [
       "                      itcs_stopName busNumber  stop_count\n",
       "0                                 -       183      147624\n",
       "1                                 -       208      333348\n",
       "2                 Zürich, Albisrank       183          14\n",
       "3                 Zürich, Albisrank       208          77\n",
       "4          Zürich, Albisriederplatz       183          36\n",
       "..                              ...       ...         ...\n",
       "121  Zürich, Waffenplatz-/Bederstr.       208          23\n",
       "122      Zürich, Waffenplatzstrasse       208          48\n",
       "123         Zürich, Wildbachstrasse       183          58\n",
       "124         Zürich, Wildbachstrasse       208          26\n",
       "125             Zürich, Zwinglihaus       208          48\n",
       "\n",
       "[102 rows x 3 columns]"
      ]
     },
     "execution_count": 18,
     "metadata": {},
     "output_type": "execute_result"
    }
   ],
   "source": [
    "details_stop_count[details_stop_count[\"stop_count\"] >= 10]"
   ]
  },
  {
   "cell_type": "markdown",
   "id": "db828c77-9432-4533-9695-e45ec86dc885",
   "metadata": {
    "editable": true,
    "slideshow": {
     "slide_type": ""
    },
    "tags": []
   },
   "source": [
    "### 9. For each (route, bus) pair, compute the ratio between the overall energy consumption and the overall driven distance. "
   ]
  },
  {
   "cell_type": "code",
   "execution_count": 19,
   "metadata": {},
   "outputs": [
    {
     "data": {
      "text/html": [
       "<div>\n",
       "<style scoped>\n",
       "    .dataframe tbody tr th:only-of-type {\n",
       "        vertical-align: middle;\n",
       "    }\n",
       "\n",
       "    .dataframe tbody tr th {\n",
       "        vertical-align: top;\n",
       "    }\n",
       "\n",
       "    .dataframe thead th {\n",
       "        text-align: right;\n",
       "    }\n",
       "</style>\n",
       "<table border=\"1\" class=\"dataframe\">\n",
       "  <thead>\n",
       "    <tr style=\"text-align: right;\">\n",
       "      <th></th>\n",
       "      <th>busNumber</th>\n",
       "      <th>busRoute</th>\n",
       "      <th>ratio</th>\n",
       "    </tr>\n",
       "  </thead>\n",
       "  <tbody>\n",
       "    <tr>\n",
       "      <th>0</th>\n",
       "      <td>183</td>\n",
       "      <td>-</td>\n",
       "      <td>6230.233181</td>\n",
       "    </tr>\n",
       "    <tr>\n",
       "      <th>1</th>\n",
       "      <td>183</td>\n",
       "      <td>31</td>\n",
       "      <td>6086.891785</td>\n",
       "    </tr>\n",
       "    <tr>\n",
       "      <th>2</th>\n",
       "      <td>183</td>\n",
       "      <td>32</td>\n",
       "      <td>6174.585331</td>\n",
       "    </tr>\n",
       "    <tr>\n",
       "      <th>3</th>\n",
       "      <td>183</td>\n",
       "      <td>33</td>\n",
       "      <td>5970.747507</td>\n",
       "    </tr>\n",
       "    <tr>\n",
       "      <th>4</th>\n",
       "      <td>183</td>\n",
       "      <td>46</td>\n",
       "      <td>5631.035959</td>\n",
       "    </tr>\n",
       "  </tbody>\n",
       "</table>\n",
       "</div>"
      ],
      "text/plain": [
       "   busNumber busRoute        ratio\n",
       "0        183        -  6230.233181\n",
       "1        183       31  6086.891785\n",
       "2        183       32  6174.585331\n",
       "3        183       33  5970.747507\n",
       "4        183       46  5631.035959"
      ]
     },
     "execution_count": 19,
     "metadata": {},
     "output_type": "execute_result"
    }
   ],
   "source": [
    "trips_grouped = trips.groupby([\"busNumber\", \"busRoute\"])\n",
    "energy_distance_ratio = (trips_grouped[\"energyConsumption\"].sum() / trips_grouped[\"drivenDistance\"].sum()).reset_index(name=\"ratio\")\n",
    "energy_distance_ratio.head()"
   ]
  },
  {
   "cell_type": "markdown",
   "id": "21d7b488-59e1-40e8-901c-411d08c592b9",
   "metadata": {
    "editable": true,
    "slideshow": {
     "slide_type": ""
    },
    "tags": []
   },
   "source": [
    "### 10. Starting from the results of the previous point, for each route compute the buses with max and min energy ratio, and save the difference between these ratios in a dataframe."
   ]
  },
  {
   "cell_type": "code",
   "execution_count": 20,
   "metadata": {},
   "outputs": [],
   "source": [
    "max_idx = energy_distance_ratio.groupby(\"busRoute\")[\"ratio\"].idxmax()\n",
    "min_idx = energy_distance_ratio.groupby(\"busRoute\")[\"ratio\"].idxmin()"
   ]
  },
  {
   "cell_type": "code",
   "execution_count": 21,
   "metadata": {},
   "outputs": [
    {
     "data": {
      "text/plain": [
       "0    6230.233181\n",
       "1    6086.891785\n",
       "2    6174.585331\n",
       "3    5970.747507\n",
       "4    5631.035959\n",
       "5    5899.029643\n",
       "6    5844.977154\n",
       "7    5980.920966\n",
       "8    5701.850332\n",
       "9    6154.986937\n",
       "Name: ratio, dtype: float64"
      ]
     },
     "execution_count": 21,
     "metadata": {},
     "output_type": "execute_result"
    }
   ],
   "source": [
    "max_bus = energy_distance_ratio.loc[max_idx].reset_index()\n",
    "(max_bus[\"ratio\"])"
   ]
  },
  {
   "cell_type": "code",
   "execution_count": 22,
   "metadata": {},
   "outputs": [
    {
     "data": {
      "text/plain": [
       "0    6230.233181\n",
       "1    5290.862713\n",
       "2    5491.247671\n",
       "3    5639.244537\n",
       "4    5583.110707\n",
       "5    5410.318878\n",
       "6    5819.638891\n",
       "7    5640.061883\n",
       "8    5405.152963\n",
       "9    6067.190112\n",
       "Name: ratio, dtype: float64"
      ]
     },
     "execution_count": 22,
     "metadata": {},
     "output_type": "execute_result"
    }
   ],
   "source": [
    "min_bus = energy_distance_ratio.loc[min_idx].reset_index()\n",
    "(min_bus[\"ratio\"])"
   ]
  },
  {
   "cell_type": "code",
   "execution_count": 23,
   "metadata": {},
   "outputs": [
    {
     "data": {
      "text/html": [
       "<div>\n",
       "<style scoped>\n",
       "    .dataframe tbody tr th:only-of-type {\n",
       "        vertical-align: middle;\n",
       "    }\n",
       "\n",
       "    .dataframe tbody tr th {\n",
       "        vertical-align: top;\n",
       "    }\n",
       "\n",
       "    .dataframe thead th {\n",
       "        text-align: right;\n",
       "    }\n",
       "</style>\n",
       "<table border=\"1\" class=\"dataframe\">\n",
       "  <thead>\n",
       "    <tr style=\"text-align: right;\">\n",
       "      <th></th>\n",
       "      <th>busNumber</th>\n",
       "      <th>busRoute</th>\n",
       "      <th>ratio</th>\n",
       "      <th>ratio_diff</th>\n",
       "    </tr>\n",
       "  </thead>\n",
       "  <tbody>\n",
       "    <tr>\n",
       "      <th>0</th>\n",
       "      <td>183</td>\n",
       "      <td>-</td>\n",
       "      <td>6230.233181</td>\n",
       "      <td>0.000000</td>\n",
       "    </tr>\n",
       "    <tr>\n",
       "      <th>1</th>\n",
       "      <td>183</td>\n",
       "      <td>31</td>\n",
       "      <td>6086.891785</td>\n",
       "      <td>796.029072</td>\n",
       "    </tr>\n",
       "    <tr>\n",
       "      <th>2</th>\n",
       "      <td>183</td>\n",
       "      <td>32</td>\n",
       "      <td>6174.585331</td>\n",
       "      <td>683.337660</td>\n",
       "    </tr>\n",
       "    <tr>\n",
       "      <th>3</th>\n",
       "      <td>183</td>\n",
       "      <td>33</td>\n",
       "      <td>5970.747507</td>\n",
       "      <td>331.502969</td>\n",
       "    </tr>\n",
       "    <tr>\n",
       "      <th>4</th>\n",
       "      <td>183</td>\n",
       "      <td>46</td>\n",
       "      <td>5631.035959</td>\n",
       "      <td>47.925252</td>\n",
       "    </tr>\n",
       "    <tr>\n",
       "      <th>5</th>\n",
       "      <td>183</td>\n",
       "      <td>72</td>\n",
       "      <td>5899.029643</td>\n",
       "      <td>488.710765</td>\n",
       "    </tr>\n",
       "    <tr>\n",
       "      <th>6</th>\n",
       "      <td>183</td>\n",
       "      <td>83</td>\n",
       "      <td>5844.977154</td>\n",
       "      <td>25.338263</td>\n",
       "    </tr>\n",
       "    <tr>\n",
       "      <th>7</th>\n",
       "      <td>183</td>\n",
       "      <td>N1</td>\n",
       "      <td>5980.920966</td>\n",
       "      <td>340.859083</td>\n",
       "    </tr>\n",
       "    <tr>\n",
       "      <th>8</th>\n",
       "      <td>183</td>\n",
       "      <td>N2</td>\n",
       "      <td>5701.850332</td>\n",
       "      <td>296.697369</td>\n",
       "    </tr>\n",
       "    <tr>\n",
       "      <th>9</th>\n",
       "      <td>183</td>\n",
       "      <td>N4</td>\n",
       "      <td>6154.986937</td>\n",
       "      <td>87.796825</td>\n",
       "    </tr>\n",
       "    <tr>\n",
       "      <th>10</th>\n",
       "      <td>208</td>\n",
       "      <td>31</td>\n",
       "      <td>5290.862713</td>\n",
       "      <td>NaN</td>\n",
       "    </tr>\n",
       "    <tr>\n",
       "      <th>11</th>\n",
       "      <td>208</td>\n",
       "      <td>32</td>\n",
       "      <td>5491.247671</td>\n",
       "      <td>NaN</td>\n",
       "    </tr>\n",
       "    <tr>\n",
       "      <th>12</th>\n",
       "      <td>208</td>\n",
       "      <td>33</td>\n",
       "      <td>5639.244537</td>\n",
       "      <td>NaN</td>\n",
       "    </tr>\n",
       "    <tr>\n",
       "      <th>13</th>\n",
       "      <td>208</td>\n",
       "      <td>46</td>\n",
       "      <td>5583.110707</td>\n",
       "      <td>NaN</td>\n",
       "    </tr>\n",
       "    <tr>\n",
       "      <th>14</th>\n",
       "      <td>208</td>\n",
       "      <td>72</td>\n",
       "      <td>5410.318878</td>\n",
       "      <td>NaN</td>\n",
       "    </tr>\n",
       "    <tr>\n",
       "      <th>15</th>\n",
       "      <td>208</td>\n",
       "      <td>83</td>\n",
       "      <td>5819.638891</td>\n",
       "      <td>NaN</td>\n",
       "    </tr>\n",
       "    <tr>\n",
       "      <th>16</th>\n",
       "      <td>208</td>\n",
       "      <td>N1</td>\n",
       "      <td>5640.061883</td>\n",
       "      <td>NaN</td>\n",
       "    </tr>\n",
       "    <tr>\n",
       "      <th>17</th>\n",
       "      <td>208</td>\n",
       "      <td>N2</td>\n",
       "      <td>5405.152963</td>\n",
       "      <td>NaN</td>\n",
       "    </tr>\n",
       "    <tr>\n",
       "      <th>18</th>\n",
       "      <td>208</td>\n",
       "      <td>N4</td>\n",
       "      <td>6067.190112</td>\n",
       "      <td>NaN</td>\n",
       "    </tr>\n",
       "  </tbody>\n",
       "</table>\n",
       "</div>"
      ],
      "text/plain": [
       "    busNumber busRoute        ratio  ratio_diff\n",
       "0         183        -  6230.233181    0.000000\n",
       "1         183       31  6086.891785  796.029072\n",
       "2         183       32  6174.585331  683.337660\n",
       "3         183       33  5970.747507  331.502969\n",
       "4         183       46  5631.035959   47.925252\n",
       "5         183       72  5899.029643  488.710765\n",
       "6         183       83  5844.977154   25.338263\n",
       "7         183       N1  5980.920966  340.859083\n",
       "8         183       N2  5701.850332  296.697369\n",
       "9         183       N4  6154.986937   87.796825\n",
       "10        208       31  5290.862713         NaN\n",
       "11        208       32  5491.247671         NaN\n",
       "12        208       33  5639.244537         NaN\n",
       "13        208       46  5583.110707         NaN\n",
       "14        208       72  5410.318878         NaN\n",
       "15        208       83  5819.638891         NaN\n",
       "16        208       N1  5640.061883         NaN\n",
       "17        208       N2  5405.152963         NaN\n",
       "18        208       N4  6067.190112         NaN"
      ]
     },
     "execution_count": 23,
     "metadata": {},
     "output_type": "execute_result"
    }
   ],
   "source": [
    "energy_distance_ratio[\"ratio_diff\"] = max_bus[\"ratio\"] - min_bus[\"ratio\"]\n",
    "energy_distance_ratio"
   ]
  },
  {
   "cell_type": "markdown",
   "id": "2bf98f50-14b1-4a48-9906-c71e614789c5",
   "metadata": {
    "editable": true,
    "slideshow": {
     "slide_type": ""
    },
    "tags": []
   },
   "source": [
    "### 11. Find the bus maximizing the difference computed in the previous point."
   ]
  },
  {
   "cell_type": "code",
   "execution_count": 24,
   "metadata": {},
   "outputs": [
    {
     "data": {
      "text/plain": [
       "busNumber    183\n",
       "busRoute      31\n",
       "Name: 1, dtype: object"
      ]
     },
     "execution_count": 24,
     "metadata": {},
     "output_type": "execute_result"
    }
   ],
   "source": [
    "max_diff_idx = abs(energy_distance_ratio[\"ratio_diff\"]).idxmax()\n",
    "energy_distance_ratio.loc[max_diff_idx][[\"busNumber\", \"busRoute\"]]"
   ]
  },
  {
   "cell_type": "markdown",
   "id": "b473c62b-ed47-41b4-9de9-38999c6c6427",
   "metadata": {
    "editable": true,
    "slideshow": {
     "slide_type": ""
    },
    "tags": []
   },
   "source": [
    "### 12. Extract the rows of the details such that the `gnss_altitude` differs from the value in the preceding row. Store also the difference in the variable `altitude_variation`."
   ]
  },
  {
   "cell_type": "code",
   "execution_count": 25,
   "metadata": {},
   "outputs": [],
   "source": [
    "details[\"altitude_variation\"] = details[\"gnss_altitude\"].diff()\n",
    "diff_details_trips = details[details[\"altitude_variation\"] != 0].reset_index()\n",
    "diff_details_trips = diff_details_trips.dropna().reset_index()"
   ]
  },
  {
   "cell_type": "markdown",
   "id": "9af8db3f-9440-45f3-ab0a-7816a2f07eff",
   "metadata": {
    "editable": true,
    "slideshow": {
     "slide_type": ""
    },
    "tags": []
   },
   "source": [
    "### 13. For each details dataset, compute the sum of the absolute value (i.e. the sign is not considered) of `altitude_variation`."
   ]
  },
  {
   "cell_type": "code",
   "execution_count": 26,
   "id": "e8d20f49",
   "metadata": {},
   "outputs": [
    {
     "data": {
      "text/plain": [
       "0    0.0979\n",
       "1    0.2986\n",
       "2   -0.0246\n",
       "3    0.0049\n",
       "4    0.3038\n",
       "Name: altitude_variation, dtype: float64"
      ]
     },
     "execution_count": 26,
     "metadata": {},
     "output_type": "execute_result"
    }
   ],
   "source": [
    "diff_details_trips[\"altitude_variation\"].head()"
   ]
  },
  {
   "cell_type": "code",
   "execution_count": 27,
   "id": "4e2c12e8",
   "metadata": {},
   "outputs": [],
   "source": [
    "def calc_sum_abs_variation(df):\n",
    "    return df.groupby([\"missionDate\", \"busNumber\"])[\"altitude_variation\"].apply(lambda x: x.abs().sum()).reset_index()"
   ]
  },
  {
   "cell_type": "markdown",
   "id": "5c2bbb8e-3462-4c61-92b9-5d1a848c0841",
   "metadata": {
    "editable": true,
    "slideshow": {
     "slide_type": ""
    },
    "tags": []
   },
   "source": [
    "### 14.  For each month of the year, compute the average ambient temperature"
   ]
  },
  {
   "cell_type": "code",
   "execution_count": 28,
   "metadata": {},
   "outputs": [
    {
     "data": {
      "text/plain": [
       "year  month\n",
       "2019  6        299.968397\n",
       "2020  7        297.107453\n",
       "2021  5        287.819472\n",
       "      7        292.460708\n",
       "      9        295.668297\n",
       "      10       289.159768\n",
       "2022  7        301.345118\n",
       "      10       289.700618\n",
       "      11       280.660145\n",
       "Name: temperature_ambient, dtype: float64"
      ]
     },
     "execution_count": 28,
     "metadata": {},
     "output_type": "execute_result"
    }
   ],
   "source": [
    "details[\"time_iso\"] = pd.to_datetime(details[\"time_iso\"])\n",
    "details[\"month\"] = details[\"time_iso\"].dt.month\n",
    "details[\"year\"] = details[\"time_iso\"].dt.year\n",
    "\n",
    "details_trips_month = details.groupby([\"year\", \"month\"])[\"temperature_ambient\"].mean()\n",
    "details_trips_month"
   ]
  },
  {
   "cell_type": "markdown",
   "id": "eb3e1224-a4be-49ab-b6d9-74222b6820a0",
   "metadata": {
    "editable": true,
    "slideshow": {
     "slide_type": ""
    },
    "tags": []
   },
   "source": [
    "### 15. For each bus compute the total time when the halt brake is active and the total time when the park brake is active. Compute also the ratio between those two times."
   ]
  },
  {
   "cell_type": "code",
   "execution_count": 29,
   "metadata": {},
   "outputs": [],
   "source": [
    "def brake_time(df, brake_type):\n",
    "    df = df.sort_values(by=[\"busNumber\", \"missionDate\", \"time_unix\"])\n",
    "    df[\"time_diff\"] = df.groupby([\"busNumber\", \"missionDate\"])[\"time_unix\"].diff()\n",
    "    df[\"time_diff\"] = df['time_diff'].fillna(0)\n",
    "\n",
    "    brake_rows = df[df[brake_type] == 1]\n",
    "    \n",
    "    df_grouped = brake_rows.groupby([\"busNumber\"])[\"time_diff\"].sum()\n",
    "\n",
    "    return df_grouped\n",
    "\n"
   ]
  },
  {
   "cell_type": "code",
   "execution_count": 30,
   "metadata": {},
   "outputs": [],
   "source": [
    "halt_time = brake_time(details, \"status_haltBrakeIsActive\")"
   ]
  },
  {
   "cell_type": "code",
   "execution_count": 31,
   "metadata": {},
   "outputs": [],
   "source": [
    "stop_time = brake_time(details, \"status_parkBrakeIsActive\")"
   ]
  },
  {
   "cell_type": "code",
   "execution_count": 35,
   "id": "1e4518e8",
   "metadata": {},
   "outputs": [
    {
     "data": {
      "text/plain": [
       "busNumber\n",
       "183    1.662894\n",
       "208    2.948551\n",
       "Name: time_diff, dtype: float64"
      ]
     },
     "execution_count": 35,
     "metadata": {},
     "output_type": "execute_result"
    }
   ],
   "source": [
    "brake_ratio = halt_time / stop_time\n",
    "brake_ratio"
   ]
  },
  {
   "cell_type": "markdown",
   "id": "efaf685c-37ba-4858-aaaa-5a4cf6b406ba",
   "metadata": {
    "editable": true,
    "slideshow": {
     "slide_type": ""
    },
    "tags": []
   },
   "source": [
    "### 16. For each pair of stops that are consecutive in some trip, compute the average speed achieved when going from the first to the second stop."
   ]
  },
  {
   "cell_type": "code",
   "execution_count": 117,
   "metadata": {},
   "outputs": [
    {
     "data": {
      "text/plain": [
       "busNumber  missionDate  itcs_stopName                \n",
       "183        2019-06-24   -                                3.675764\n",
       "                        Zürich, Albisriederplatz         0.159337\n",
       "                        Zürich, Bahnhof Hardbrücke       0.044404\n",
       "                        Zürich, Bahnhof Tiefenbrunnen    0.049395\n",
       "                        Zürich, Bahnhof Wipkingen        0.019897\n",
       "                                                           ...   \n",
       "208        2022-11-30   Zürich, Letzipark West           0.467673\n",
       "                        Zürich, Milchbuck                0.348732\n",
       "                        Zürich, Rosengartenstrasse       0.453848\n",
       "                        Zürich, SBB-Werkstätte           1.110108\n",
       "                        Zürich, Schiffbau                0.388733\n",
       "Name: odometry_vehicleSpeed, Length: 288, dtype: float64"
      ]
     },
     "execution_count": 117,
     "metadata": {},
     "output_type": "execute_result"
    }
   ],
   "source": [
    "def avg_speed_by_stop(df):\n",
    "    df = df.sort_values(by=[\"busNumber\", \"missionDate\", \"time_unix\"])\n",
    "    mean_speed = df.groupby([\"busNumber\", \"missionDate\", \"itcs_stopName\"])[\"odometry_vehicleSpeed\"].mean()\n",
    "\n",
    "    return mean_speed\n",
    "    \n",
    "avg_speed_by_stop(details)"
   ]
  }
 ],
 "metadata": {
  "kernelspec": {
   "display_name": "Python 3 (ipykernel)",
   "language": "python",
   "name": "python3"
  },
  "language_info": {
   "codemirror_mode": {
    "name": "ipython",
    "version": 3
   },
   "file_extension": ".py",
   "mimetype": "text/x-python",
   "name": "python",
   "nbconvert_exporter": "python",
   "pygments_lexer": "ipython3",
   "version": "3.11.5"
  }
 },
 "nbformat": 4,
 "nbformat_minor": 5
}
